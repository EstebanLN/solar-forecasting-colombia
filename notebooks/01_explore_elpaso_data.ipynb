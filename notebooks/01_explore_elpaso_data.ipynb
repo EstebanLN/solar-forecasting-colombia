{
 "cells": [
  {
   "cell_type": "markdown",
   "id": "a7abf88f",
   "metadata": {},
   "source": [
    "\n",
    "# 01 — Exploratory Analysis: El Paso Dataset\n"
   ]
  },
  {
   "cell_type": "code",
   "execution_count": 23,
   "id": "e088c8a3",
   "metadata": {},
   "outputs": [
    {
     "name": "stdout",
     "output_type": "stream",
     "text": [
      "<class 'pandas.core.frame.DataFrame'>\n",
      "DatetimeIndex: 107172 entries, 2022-02-21 18:00:00+00:00 to 2024-03-06 23:50:00+00:00\n",
      "Data columns (total 9 columns):\n",
      " #   Column   Non-Null Count   Dtype  \n",
      "---  ------   --------------   -----  \n",
      " 0   CSI      107172 non-null  float64\n",
      " 1   GHI      107172 non-null  float64\n",
      " 2   Presion  107172 non-null  float64\n",
      " 3   TempAmb  107172 non-null  float64\n",
      " 4   Wind Y   107172 non-null  float64\n",
      " 5   Wind X   107172 non-null  float64\n",
      " 6   DoY Sin  107172 non-null  float64\n",
      " 7   DoY Cos  107172 non-null  float64\n",
      " 8   horas    107172 non-null  int64  \n",
      "dtypes: float64(8), int64(1)\n",
      "memory usage: 8.2 MB\n"
     ]
    },
    {
     "data": {
      "application/vnd.microsoft.datawrangler.viewer.v0+json": {
       "columns": [
        {
         "name": "time",
         "rawType": "datetime64[ns, UTC]",
         "type": "unknown"
        },
        {
         "name": "CSI",
         "rawType": "float64",
         "type": "float"
        },
        {
         "name": "GHI",
         "rawType": "float64",
         "type": "float"
        },
        {
         "name": "Presion",
         "rawType": "float64",
         "type": "float"
        },
        {
         "name": "TempAmb",
         "rawType": "float64",
         "type": "float"
        },
        {
         "name": "Wind Y",
         "rawType": "float64",
         "type": "float"
        },
        {
         "name": "Wind X",
         "rawType": "float64",
         "type": "float"
        },
        {
         "name": "DoY Sin",
         "rawType": "float64",
         "type": "float"
        },
        {
         "name": "DoY Cos",
         "rawType": "float64",
         "type": "float"
        },
        {
         "name": "horas",
         "rawType": "int64",
         "type": "integer"
        }
       ],
       "ref": "1b5cad35-6d98-443d-850e-b3ed580a1187",
       "rows": [
        [
         "2022-02-21 18:00:00+00:00",
         "2.0",
         "3.0352",
         "1000.7912",
         "29.9672",
         "2.8329537511734304",
         "-0.0936124655822536",
         "0.7787639308347607",
         "0.6273170968742937",
         "18"
        ],
        [
         "2022-02-21 18:10:00+00:00",
         "0.0",
         "0.3562",
         "1000.9321",
         "29.5689",
         "3.387551831665581",
         "0.7968014732536361",
         "0.7787639308347607",
         "0.6273170968742937",
         "18"
        ],
        [
         "2022-02-21 18:20:00+00:00",
         "0.0",
         "0.0",
         "1001.1479",
         "29.2593",
         "2.091197167038805",
         "-0.8786804302867318",
         "0.7787639308347607",
         "0.6273170968742937",
         "18"
        ],
        [
         "2022-02-21 18:30:00+00:00",
         "0.0",
         "0.0",
         "1001.2992",
         "28.9183",
         "-0.4879573421959761",
         "-1.4785623531650731",
         "0.7787639308347607",
         "0.6273170968742937",
         "18"
        ],
        [
         "2022-02-21 18:40:00+00:00",
         "0.0",
         "0.0",
         "1001.4676",
         "28.5578",
         "0.8911714612141777",
         "-2.047462435972242",
         "0.7787639308347607",
         "0.6273170968742937",
         "18"
        ]
       ],
       "shape": {
        "columns": 9,
        "rows": 5
       }
      },
      "text/html": [
       "<div>\n",
       "<style scoped>\n",
       "    .dataframe tbody tr th:only-of-type {\n",
       "        vertical-align: middle;\n",
       "    }\n",
       "\n",
       "    .dataframe tbody tr th {\n",
       "        vertical-align: top;\n",
       "    }\n",
       "\n",
       "    .dataframe thead th {\n",
       "        text-align: right;\n",
       "    }\n",
       "</style>\n",
       "<table border=\"1\" class=\"dataframe\">\n",
       "  <thead>\n",
       "    <tr style=\"text-align: right;\">\n",
       "      <th></th>\n",
       "      <th>CSI</th>\n",
       "      <th>GHI</th>\n",
       "      <th>Presion</th>\n",
       "      <th>TempAmb</th>\n",
       "      <th>Wind Y</th>\n",
       "      <th>Wind X</th>\n",
       "      <th>DoY Sin</th>\n",
       "      <th>DoY Cos</th>\n",
       "      <th>horas</th>\n",
       "    </tr>\n",
       "    <tr>\n",
       "      <th>time</th>\n",
       "      <th></th>\n",
       "      <th></th>\n",
       "      <th></th>\n",
       "      <th></th>\n",
       "      <th></th>\n",
       "      <th></th>\n",
       "      <th></th>\n",
       "      <th></th>\n",
       "      <th></th>\n",
       "    </tr>\n",
       "  </thead>\n",
       "  <tbody>\n",
       "    <tr>\n",
       "      <th>2022-02-21 18:00:00+00:00</th>\n",
       "      <td>2.0</td>\n",
       "      <td>3.0352</td>\n",
       "      <td>1000.7912</td>\n",
       "      <td>29.9672</td>\n",
       "      <td>2.832954</td>\n",
       "      <td>-0.093612</td>\n",
       "      <td>0.778764</td>\n",
       "      <td>0.627317</td>\n",
       "      <td>18</td>\n",
       "    </tr>\n",
       "    <tr>\n",
       "      <th>2022-02-21 18:10:00+00:00</th>\n",
       "      <td>0.0</td>\n",
       "      <td>0.3562</td>\n",
       "      <td>1000.9321</td>\n",
       "      <td>29.5689</td>\n",
       "      <td>3.387552</td>\n",
       "      <td>0.796801</td>\n",
       "      <td>0.778764</td>\n",
       "      <td>0.627317</td>\n",
       "      <td>18</td>\n",
       "    </tr>\n",
       "    <tr>\n",
       "      <th>2022-02-21 18:20:00+00:00</th>\n",
       "      <td>0.0</td>\n",
       "      <td>0.0000</td>\n",
       "      <td>1001.1479</td>\n",
       "      <td>29.2593</td>\n",
       "      <td>2.091197</td>\n",
       "      <td>-0.878680</td>\n",
       "      <td>0.778764</td>\n",
       "      <td>0.627317</td>\n",
       "      <td>18</td>\n",
       "    </tr>\n",
       "    <tr>\n",
       "      <th>2022-02-21 18:30:00+00:00</th>\n",
       "      <td>0.0</td>\n",
       "      <td>0.0000</td>\n",
       "      <td>1001.2992</td>\n",
       "      <td>28.9183</td>\n",
       "      <td>-0.487957</td>\n",
       "      <td>-1.478562</td>\n",
       "      <td>0.778764</td>\n",
       "      <td>0.627317</td>\n",
       "      <td>18</td>\n",
       "    </tr>\n",
       "    <tr>\n",
       "      <th>2022-02-21 18:40:00+00:00</th>\n",
       "      <td>0.0</td>\n",
       "      <td>0.0000</td>\n",
       "      <td>1001.4676</td>\n",
       "      <td>28.5578</td>\n",
       "      <td>0.891171</td>\n",
       "      <td>-2.047462</td>\n",
       "      <td>0.778764</td>\n",
       "      <td>0.627317</td>\n",
       "      <td>18</td>\n",
       "    </tr>\n",
       "  </tbody>\n",
       "</table>\n",
       "</div>"
      ],
      "text/plain": [
       "                           CSI     GHI    Presion  TempAmb    Wind Y  \\\n",
       "time                                                                   \n",
       "2022-02-21 18:00:00+00:00  2.0  3.0352  1000.7912  29.9672  2.832954   \n",
       "2022-02-21 18:10:00+00:00  0.0  0.3562  1000.9321  29.5689  3.387552   \n",
       "2022-02-21 18:20:00+00:00  0.0  0.0000  1001.1479  29.2593  2.091197   \n",
       "2022-02-21 18:30:00+00:00  0.0  0.0000  1001.2992  28.9183 -0.487957   \n",
       "2022-02-21 18:40:00+00:00  0.0  0.0000  1001.4676  28.5578  0.891171   \n",
       "\n",
       "                             Wind X   DoY Sin   DoY Cos  horas  \n",
       "time                                                            \n",
       "2022-02-21 18:00:00+00:00 -0.093612  0.778764  0.627317     18  \n",
       "2022-02-21 18:10:00+00:00  0.796801  0.778764  0.627317     18  \n",
       "2022-02-21 18:20:00+00:00 -0.878680  0.778764  0.627317     18  \n",
       "2022-02-21 18:30:00+00:00 -1.478562  0.778764  0.627317     18  \n",
       "2022-02-21 18:40:00+00:00 -2.047462  0.778764  0.627317     18  "
      ]
     },
     "execution_count": 23,
     "metadata": {},
     "output_type": "execute_result"
    }
   ],
   "source": [
    "import pandas as pd\n",
    "import matplotlib.pyplot as plt\n",
    "\n",
    "# --- Cargar datos ---\n",
    "df = pd.read_csv(\"../data/Data_ElPaso_Clean.csv\", parse_dates=[0], index_col=0)\n",
    "df.index.name = \"time\"\n",
    "\n",
    "(df.info())\n",
    "(df.head())"
   ]
  },
  {
   "cell_type": "code",
   "execution_count": 24,
   "id": "77473078",
   "metadata": {},
   "outputs": [
    {
     "data": {
      "application/vnd.microsoft.datawrangler.viewer.v0+json": {
       "columns": [
        {
         "name": "index",
         "rawType": "object",
         "type": "string"
        },
        {
         "name": "CSI",
         "rawType": "float64",
         "type": "float"
        },
        {
         "name": "GHI",
         "rawType": "float64",
         "type": "float"
        },
        {
         "name": "Presion",
         "rawType": "float64",
         "type": "float"
        },
        {
         "name": "TempAmb",
         "rawType": "float64",
         "type": "float"
        },
        {
         "name": "Wind Y",
         "rawType": "float64",
         "type": "float"
        },
        {
         "name": "Wind X",
         "rawType": "float64",
         "type": "float"
        },
        {
         "name": "DoY Sin",
         "rawType": "float64",
         "type": "float"
        },
        {
         "name": "DoY Cos",
         "rawType": "float64",
         "type": "float"
        },
        {
         "name": "horas",
         "rawType": "float64",
         "type": "float"
        }
       ],
       "ref": "5626810e-4079-4894-8a52-9e8acec4165a",
       "rows": [
        [
         "count",
         "107172.0",
         "107172.0",
         "107172.0",
         "107172.0",
         "107172.0",
         "107172.0",
         "107172.0",
         "107172.0",
         "107172.0"
        ],
        [
         "mean",
         "0.47265516459523016",
         "251.71939688258126",
         "1003.1268751194342",
         "28.32940651942672",
         "0.12231872013841648",
         "-0.40232606151428774",
         "0.016266336636152668",
         "0.0073217254913392725",
         "11.503023177695667"
        ],
        [
         "std",
         "0.5646593608438081",
         "331.0664441254268",
         "2.5479027608351053",
         "6.277600139025997",
         "0.8796151929011156",
         "0.6704035797387381",
         "0.7108838469291358",
         "0.7030898112736551",
         "6.923091611078033"
        ],
        [
         "min",
         "0.0",
         "0.0",
         "995.0",
         "18.0",
         "-4.431664709958209",
         "-7.161832927918162",
         "-0.99996316124771",
         "-1.0",
         "0.0"
        ],
        [
         "25%",
         "0.0",
         "0.0344",
         "1001.503475",
         "23.0103",
         "-0.37769058727338656",
         "-0.7593511956405166",
         "-0.6979441547663433",
         "-0.6917713646142222",
         "6.0"
        ],
        [
         "50%",
         "0.0002",
         "32.0938",
         "1003.0734",
         "26.3021",
         "0.0",
         "-0.27872403731781714",
         "0.0343276005132438",
         "0.0257479136549886",
         "12.0"
        ],
        [
         "75%",
         "0.9784",
         "490.281425",
         "1004.428525",
         "33.4717",
         "0.6130370785983854",
         "0.0",
         "0.7454378568683001",
         "0.6917713646142218",
         "18.0"
        ],
        [
         "max",
         "2.0",
         "1300.0",
         "1018.0",
         "45.0",
         "6.034323304088308",
         "5.720461950125908",
         "0.99996316124771",
         "0.9998526477050268",
         "23.0"
        ]
       ],
       "shape": {
        "columns": 9,
        "rows": 8
       }
      },
      "text/html": [
       "<div>\n",
       "<style scoped>\n",
       "    .dataframe tbody tr th:only-of-type {\n",
       "        vertical-align: middle;\n",
       "    }\n",
       "\n",
       "    .dataframe tbody tr th {\n",
       "        vertical-align: top;\n",
       "    }\n",
       "\n",
       "    .dataframe thead th {\n",
       "        text-align: right;\n",
       "    }\n",
       "</style>\n",
       "<table border=\"1\" class=\"dataframe\">\n",
       "  <thead>\n",
       "    <tr style=\"text-align: right;\">\n",
       "      <th></th>\n",
       "      <th>CSI</th>\n",
       "      <th>GHI</th>\n",
       "      <th>Presion</th>\n",
       "      <th>TempAmb</th>\n",
       "      <th>Wind Y</th>\n",
       "      <th>Wind X</th>\n",
       "      <th>DoY Sin</th>\n",
       "      <th>DoY Cos</th>\n",
       "      <th>horas</th>\n",
       "    </tr>\n",
       "  </thead>\n",
       "  <tbody>\n",
       "    <tr>\n",
       "      <th>count</th>\n",
       "      <td>107172.000000</td>\n",
       "      <td>107172.000000</td>\n",
       "      <td>107172.000000</td>\n",
       "      <td>107172.000000</td>\n",
       "      <td>107172.000000</td>\n",
       "      <td>107172.000000</td>\n",
       "      <td>107172.000000</td>\n",
       "      <td>107172.000000</td>\n",
       "      <td>107172.000000</td>\n",
       "    </tr>\n",
       "    <tr>\n",
       "      <th>mean</th>\n",
       "      <td>0.472655</td>\n",
       "      <td>251.719397</td>\n",
       "      <td>1003.126875</td>\n",
       "      <td>28.329407</td>\n",
       "      <td>0.122319</td>\n",
       "      <td>-0.402326</td>\n",
       "      <td>0.016266</td>\n",
       "      <td>0.007322</td>\n",
       "      <td>11.503023</td>\n",
       "    </tr>\n",
       "    <tr>\n",
       "      <th>std</th>\n",
       "      <td>0.564659</td>\n",
       "      <td>331.066444</td>\n",
       "      <td>2.547903</td>\n",
       "      <td>6.277600</td>\n",
       "      <td>0.879615</td>\n",
       "      <td>0.670404</td>\n",
       "      <td>0.710884</td>\n",
       "      <td>0.703090</td>\n",
       "      <td>6.923092</td>\n",
       "    </tr>\n",
       "    <tr>\n",
       "      <th>min</th>\n",
       "      <td>0.000000</td>\n",
       "      <td>0.000000</td>\n",
       "      <td>995.000000</td>\n",
       "      <td>18.000000</td>\n",
       "      <td>-4.431665</td>\n",
       "      <td>-7.161833</td>\n",
       "      <td>-0.999963</td>\n",
       "      <td>-1.000000</td>\n",
       "      <td>0.000000</td>\n",
       "    </tr>\n",
       "    <tr>\n",
       "      <th>25%</th>\n",
       "      <td>0.000000</td>\n",
       "      <td>0.034400</td>\n",
       "      <td>1001.503475</td>\n",
       "      <td>23.010300</td>\n",
       "      <td>-0.377691</td>\n",
       "      <td>-0.759351</td>\n",
       "      <td>-0.697944</td>\n",
       "      <td>-0.691771</td>\n",
       "      <td>6.000000</td>\n",
       "    </tr>\n",
       "    <tr>\n",
       "      <th>50%</th>\n",
       "      <td>0.000200</td>\n",
       "      <td>32.093800</td>\n",
       "      <td>1003.073400</td>\n",
       "      <td>26.302100</td>\n",
       "      <td>0.000000</td>\n",
       "      <td>-0.278724</td>\n",
       "      <td>0.034328</td>\n",
       "      <td>0.025748</td>\n",
       "      <td>12.000000</td>\n",
       "    </tr>\n",
       "    <tr>\n",
       "      <th>75%</th>\n",
       "      <td>0.978400</td>\n",
       "      <td>490.281425</td>\n",
       "      <td>1004.428525</td>\n",
       "      <td>33.471700</td>\n",
       "      <td>0.613037</td>\n",
       "      <td>0.000000</td>\n",
       "      <td>0.745438</td>\n",
       "      <td>0.691771</td>\n",
       "      <td>18.000000</td>\n",
       "    </tr>\n",
       "    <tr>\n",
       "      <th>max</th>\n",
       "      <td>2.000000</td>\n",
       "      <td>1300.000000</td>\n",
       "      <td>1018.000000</td>\n",
       "      <td>45.000000</td>\n",
       "      <td>6.034323</td>\n",
       "      <td>5.720462</td>\n",
       "      <td>0.999963</td>\n",
       "      <td>0.999853</td>\n",
       "      <td>23.000000</td>\n",
       "    </tr>\n",
       "  </tbody>\n",
       "</table>\n",
       "</div>"
      ],
      "text/plain": [
       "                 CSI            GHI        Presion        TempAmb  \\\n",
       "count  107172.000000  107172.000000  107172.000000  107172.000000   \n",
       "mean        0.472655     251.719397    1003.126875      28.329407   \n",
       "std         0.564659     331.066444       2.547903       6.277600   \n",
       "min         0.000000       0.000000     995.000000      18.000000   \n",
       "25%         0.000000       0.034400    1001.503475      23.010300   \n",
       "50%         0.000200      32.093800    1003.073400      26.302100   \n",
       "75%         0.978400     490.281425    1004.428525      33.471700   \n",
       "max         2.000000    1300.000000    1018.000000      45.000000   \n",
       "\n",
       "              Wind Y         Wind X        DoY Sin        DoY Cos  \\\n",
       "count  107172.000000  107172.000000  107172.000000  107172.000000   \n",
       "mean        0.122319      -0.402326       0.016266       0.007322   \n",
       "std         0.879615       0.670404       0.710884       0.703090   \n",
       "min        -4.431665      -7.161833      -0.999963      -1.000000   \n",
       "25%        -0.377691      -0.759351      -0.697944      -0.691771   \n",
       "50%         0.000000      -0.278724       0.034328       0.025748   \n",
       "75%         0.613037       0.000000       0.745438       0.691771   \n",
       "max         6.034323       5.720462       0.999963       0.999853   \n",
       "\n",
       "               horas  \n",
       "count  107172.000000  \n",
       "mean       11.503023  \n",
       "std         6.923092  \n",
       "min         0.000000  \n",
       "25%         6.000000  \n",
       "50%        12.000000  \n",
       "75%        18.000000  \n",
       "max        23.000000  "
      ]
     },
     "execution_count": 24,
     "metadata": {},
     "output_type": "execute_result"
    }
   ],
   "source": [
    "# --- Resumen estadístico ---\n",
    "(df.describe())"
   ]
  },
  {
   "cell_type": "code",
   "execution_count": 29,
   "id": "058b3c82",
   "metadata": {},
   "outputs": [
    {
     "data": {
      "image/png": "[encoded data removed]",
      "text/plain": [
       "<Figure size 1200x400 with 1 Axes>"
      ]
     },
     "metadata": {},
     "output_type": "display_data"
    }
   ],
   "source": [
    "# --- Visualización GHI ---\n",
    "plt.figure(figsize=(12,4))\n",
    "df[\"GHI\"].plot()\n",
    "plt.title(\"Serie temporal de GHI\")\n",
    "plt.xlabel(\"Tiempo\")\n",
    "plt.ylabel(\"GHI (W/m2)\")\n",
    "plt.xlim(\"2023-01-01 18:00:00+00:00\", \"2023-01-03 18:00:00+00:00\")\n",
    "plt.show()"
   ]
  },
  {
   "cell_type": "code",
   "execution_count": 26,
   "id": "fe376982",
   "metadata": {},
   "outputs": [
    {
     "data": {
      "image/png": "[encoded data removed]",
      "text/plain": [
       "<Figure size 800x400 with 1 Axes>"
      ]
     },
     "metadata": {},
     "output_type": "display_data"
    }
   ],
   "source": [
    "# --- Perfil diario promedio ---\n",
    "df[\"hour\"] = df.index.hour\n",
    "daily_profile = df.groupby(\"hour\")[\"GHI\"].mean()\n",
    "daily_profile.plot(kind=\"line\", figsize=(8,4))\n",
    "plt.title(\"Perfil medio diario de GHI\")\n",
    "plt.xlabel(\"Hora del día\")\n",
    "plt.ylabel(\"GHI (W/m2)\")\n",
    "plt.grid(True)\n",
    "plt.show()"
   ]
  },
  {
   "cell_type": "code",
   "execution_count": 27,
   "id": "e0cdb36b",
   "metadata": {},
   "outputs": [
    {
     "data": {
      "image/png": "[encoded data removed]",
      "text/plain": [
       "<Figure size 640x480 with 2 Axes>"
      ]
     },
     "metadata": {},
     "output_type": "display_data"
    }
   ],
   "source": [
    "# --- Correlaciones ---\n",
    "corr = df.corr()\n",
    "plt.imshow(corr, cmap=\"coolwarm\", aspect=\"auto\")\n",
    "plt.colorbar(label=\"Correlation\")\n",
    "plt.xticks(range(len(corr.columns)), corr.columns, rotation=90)\n",
    "plt.yticks(range(len(corr.columns)), corr.columns)\n",
    "plt.title(\"Matriz de correlación\")\n",
    "plt.show()"
   ]
  }
 ],
 "metadata": {
  "kernelspec": {
   "display_name": "Python 3",
   "language": "python",
   "name": "python3"
  },
  "language_info": {
   "codemirror_mode": {
    "name": "ipython",
    "version": 3
   },
   "file_extension": ".py",
   "mimetype": "text/x-python",
   "name": "python",
   "nbconvert_exporter": "python",
   "pygments_lexer": "ipython3",
   "version": "3.12.10"
  }
 },
 "nbformat": 4,
 "nbformat_minor": 5
}
