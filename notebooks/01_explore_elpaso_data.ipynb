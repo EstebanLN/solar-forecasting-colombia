{
 "cells": [
  {
   "cell_type": "markdown",
   "id": "a7abf88f",
   "metadata": {},
   "source": [
    "\n",
    "# 01 — Exploratory Analysis: El Paso Dataset\n"
   ]
  },
  {
   "cell_type": "code",
   "execution_count": 7,
   "id": "2fd10afa",
   "metadata": {},
   "outputs": [],
   "source": [
    "import os\n",
    "import netCDF4\n",
    "import numpy as np\n",
    "import pandas as pd\n",
    "import datetime"
   ]
  },
  {
   "cell_type": "code",
   "execution_count": 9,
   "id": "bd09d6b7",
   "metadata": {},
   "outputs": [
    {
     "name": "stdout",
     "output_type": "stream",
     "text": [
      "DATA_DIR exists: False -> C:\\Users\\Esteban\\OneDrive - Universidad de los andes\\Universidad\\2025-2\\Proyecto Industrial\\solar-forecasting-colombia\\notebooks\\data\\DATOS_ELPASO_22-24\n",
      "CSV count: 0\n"
     ]
    }
   ],
   "source": [
    "from pathlib import Path\n",
    "\n",
    "DATA_DIR = Path(r\"data/DATOS_ELPASO_22-24\")  \n",
    "RECURSIVE = True\n",
    "\n",
    "exists = DATA_DIR.exists()\n",
    "print(\"DATA_DIR exists:\", exists, \"->\", DATA_DIR.resolve())\n",
    "paths_any = list(DATA_DIR.rglob(\"*.csv\") if RECURSIVE else DATA_DIR.glob(\"*.csv\"))\n",
    "print(\"CSV count:\", len(paths_any))\n",
    "for p in paths_any[:15]:\n",
    "    print(\" •\", p.name)\n"
   ]
  }
 ],
 "metadata": {
  "kernelspec": {
   "display_name": "Python 3",
   "language": "python",
   "name": "python3"
  },
  "language_info": {
   "codemirror_mode": {
    "name": "ipython",
    "version": 3
   },
   "file_extension": ".py",
   "mimetype": "text/x-python",
   "name": "python",
   "nbconvert_exporter": "python",
   "pygments_lexer": "ipython3",
   "version": "3.12.10"
  }
 },
 "nbformat": 4,
 "nbformat_minor": 5
}
