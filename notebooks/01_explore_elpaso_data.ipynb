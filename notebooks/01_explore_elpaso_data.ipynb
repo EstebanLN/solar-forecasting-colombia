{
 "cells": [
  {
   "cell_type": "markdown",
   "id": "a7abf88f",
   "metadata": {},
   "source": [
    "\n",
    "# 01 — Exploratory Analysis: El Paso Dataset\n"
   ]
  },
  {
   "cell_type": "code",
   "execution_count": 1,
   "id": "3e773de6",
   "metadata": {},
   "outputs": [],
   "source": [
    "\n",
    "# --- Configuration ---\n",
    "from pathlib import Path\n",
    "\n",
    "\n",
    "DATA_DIR = Path(\"data\")\n",
    "FILE_GLOB = \"**/*.csv\"\n",
    "\n",
    "# Column name hints — the loader will try to auto-detect, but you can override.\n",
    "DATETIME_COL_HINTS = [\"time\", \"timestamp\", \"date\", \"datetime\", \"fecha_hora\", \"Fecha_Hora\", \"Unnamed: 0\"]\n",
    "GHI_COL_HINTS = [\"GHI\", \"ghi\", \"horiz_radiance\", \"radiance\", \"ghi_wm2\", \"GHI2\", \"diff_radiance\"]\n",
    "TZ = \"America/Bogota\"  # change if needed\n"
   ]
  },
  {
   "cell_type": "code",
   "execution_count": 2,
   "id": "c38aa744",
   "metadata": {},
   "outputs": [],
   "source": [
    "\n",
    "# --- Imports ---\n",
    "import pandas as pd\n",
    "import numpy as np\n",
    "import matplotlib.pyplot as plt\n",
    "from glob import glob\n",
    "import os, sys, textwrap\n",
    "\n",
    "pd.set_option(\"display.max_columns\", 120)\n",
    "pd.set_option(\"display.width\", 180)\n"
   ]
  },
  {
   "cell_type": "code",
   "execution_count": 3,
   "id": "07e47c6f",
   "metadata": {},
   "outputs": [
    {
     "name": "stdout",
     "output_type": "stream",
     "text": [
      "Found 0 file(s).\n"
     ]
    },
    {
     "ename": "AssertionError",
     "evalue": "No files found. Check DATA_DIR and FILE_GLOB.",
     "output_type": "error",
     "traceback": [
      "\u001b[31m---------------------------------------------------------------------------\u001b[39m",
      "\u001b[31mAssertionError\u001b[39m                            Traceback (most recent call last)",
      "\u001b[36mCell\u001b[39m\u001b[36m \u001b[39m\u001b[32mIn[3]\u001b[39m\u001b[32m, line 8\u001b[39m\n\u001b[32m      6\u001b[39m \u001b[38;5;28;01mif\u001b[39;00m \u001b[38;5;28mlen\u001b[39m(paths) > \u001b[32m10\u001b[39m:\n\u001b[32m      7\u001b[39m     \u001b[38;5;28mprint\u001b[39m(\u001b[33m\"\u001b[39m\u001b[33m...\u001b[39m\u001b[33m\"\u001b[39m)\n\u001b[32m----> \u001b[39m\u001b[32m8\u001b[39m \u001b[38;5;28;01massert\u001b[39;00m \u001b[38;5;28mlen\u001b[39m(paths) > \u001b[32m0\u001b[39m, \u001b[33m\"\u001b[39m\u001b[33mNo files found. Check DATA_DIR and FILE_GLOB.\u001b[39m\u001b[33m\"\u001b[39m\n",
      "\u001b[31mAssertionError\u001b[39m: No files found. Check DATA_DIR and FILE_GLOB."
     ]
    }
   ],
   "source": [
    "\n",
    "# --- Discover files ---\n",
    "paths = sorted(DATA_DIR.glob(FILE_GLOB))\n",
    "print(f\"Found {len(paths)} file(s).\")\n",
    "for p in paths[:10]:\n",
    "    print(\"•\", p)\n",
    "if len(paths) > 10:\n",
    "    print(\"...\")\n",
    "assert len(paths) > 0, \"No files found. Check DATA_DIR and FILE_GLOB.\"\n"
   ]
  },
  {
   "cell_type": "code",
   "execution_count": null,
   "id": "c10f33f0",
   "metadata": {},
   "outputs": [],
   "source": [
    "\n",
    "# --- Loader with datetime detection & basic cleaning ---\n",
    "def _guess_column(cols, hints):\n",
    "    cols_lower = {c.lower(): c for c in cols}\n",
    "    for h in hints:\n",
    "        if h.lower() in cols_lower:\n",
    "            return cols_lower[h.lower()]\n",
    "    return None\n",
    "\n",
    "def load_csv(path):\n",
    "    df = pd.read_csv(path)\n",
    "    # try datetime column\n",
    "    dt_col = _guess_column(df.columns, DATETIME_COL_HINTS)\n",
    "    if dt_col is None:\n",
    "        # try infer from any column containing 'time' or 'date'\n",
    "        candidates = [c for c in df.columns if any(k in c.lower() for k in [\"time\", \"date\"])]\n",
    "        dt_col = candidates[0] if candidates else None\n",
    "    if dt_col is not None:\n",
    "        df[dt_col] = pd.to_datetime(df[dt_col], errors=\"coerce\")\n",
    "        # If tz-naive, localize; if tz-aware, convert\n",
    "        if pd.api.types.is_datetime64_any_dtype(df[dt_col]):\n",
    "            if df[dt_col].dt.tz is None:\n",
    "                df[dt_col] = df[dt_col].dt.tz_localize(TZ, nonexistent=\"shift_forward\", ambiguous=\"NaT\")\n",
    "            else:\n",
    "                df[dt_col] = df[dt_col].dt.tz_convert(TZ)\n",
    "        df = df.sort_values(dt_col).dropna(subset=[dt_col])\n",
    "        df = df.set_index(dt_col)\n",
    "    return df\n",
    "\n",
    "dfs = []\n",
    "for p in paths:\n",
    "    try:\n",
    "        df = load_csv(p)\n",
    "        df[\"__source_file\"] = str(p)\n",
    "        dfs.append(df)\n",
    "    except Exception as e:\n",
    "        print(f\"[WARN] Failed to load {p}: {e}\")\n",
    "\n",
    "assert len(dfs) > 0, \"No CSVs could be loaded. Inspect formats and update loader if needed.\"\n"
   ]
  },
  {
   "cell_type": "code",
   "execution_count": null,
   "id": "8b085724",
   "metadata": {},
   "outputs": [],
   "source": [
    "\n",
    "# --- Concatenate and quick overview ---\n",
    "data = pd.concat(dfs, axis=0, sort=False)\n",
    "data = data[~data.index.duplicated(keep=\"first\")]\n",
    "print(f\"Shape: {data.shape}\")\n",
    "display(data.head(3))\n",
    "display(data.tail(3))\n",
    "\n",
    "print(\"\\nColumns:\\n\", list(data.columns))\n",
    "print(\"\\nTime range:\", data.index.min(), \"→\", data.index.max())\n",
    "print(\"Frequency (approx.):\", pd.infer_freq(data.index[:500]) or \"irregular / unknown\")\n"
   ]
  },
  {
   "cell_type": "code",
   "execution_count": null,
   "id": "30b0dea1",
   "metadata": {},
   "outputs": [],
   "source": [
    "\n",
    "# --- Missing values summary ---\n",
    "na_counts = data.isna().sum().sort_values(ascending=False)\n",
    "na_ratio = (na_counts / len(data)).round(4)\n",
    "missing_report = pd.DataFrame({\"missing\": na_counts, \"ratio\": na_ratio})\n",
    "display(missing_report.head(20))\n"
   ]
  },
  {
   "cell_type": "code",
   "execution_count": null,
   "id": "025ebe7f",
   "metadata": {},
   "outputs": [],
   "source": [
    "\n",
    "# --- Identify GHI-like column and basic stats ---\n",
    "def find_ghi_col(columns):\n",
    "    for h in GHI_COL_HINTS:\n",
    "        if h in columns:\n",
    "            return h\n",
    "    # fallback: look for 'ghi' substring\n",
    "    for c in columns:\n",
    "        if \"ghi\" in c.lower():\n",
    "            return c\n",
    "    return None\n",
    "\n",
    "ghi_col = find_ghi_col(list(data.columns))\n",
    "print(\"Detected GHI column:\", ghi_col)\n",
    "\n",
    "if ghi_col is not None:\n",
    "    ghi = data[ghi_col].astype(\"float64\")\n",
    "    print(ghi.describe(percentiles=[0.01, 0.1, 0.5, 0.9, 0.99]))\n",
    "else:\n",
    "    print(\"No GHI-like column detected. You can set ghi_col manually.\")\n"
   ]
  },
  {
   "cell_type": "code",
   "execution_count": null,
   "id": "2ff2799d",
   "metadata": {},
   "outputs": [],
   "source": [
    "\n",
    "# --- Daily profile (if GHI available) ---\n",
    "if ghi_col is not None:\n",
    "    # drop extreme outliers for plotting\n",
    "    s = data[ghi_col].astype(\"float64\").clip(lower=0)\n",
    "    daily = s.groupby([s.index.tz_convert(TZ).hour]).median()\n",
    "    plt.figure(figsize=(8,4))\n",
    "    daily.plot(kind=\"line\")\n",
    "    plt.title(\"Median daily profile (hour of day)\")\n",
    "    plt.xlabel(\"Hour\")\n",
    "    plt.ylabel(f\"{ghi_col}\")\n",
    "    plt.grid(True)\n",
    "    plt.show()\n"
   ]
  },
  {
   "cell_type": "code",
   "execution_count": null,
   "id": "e8fc901b",
   "metadata": {},
   "outputs": [],
   "source": [
    "\n",
    "# --- Resampling helpers ---\n",
    "def resample_series(series, rule=\"10T\", how=\"mean\"):\n",
    "    if how == \"mean\":\n",
    "        return series.resample(rule).mean()\n",
    "    if how == \"median\":\n",
    "        return series.resample(rule).median()\n",
    "    if how == \"max\":\n",
    "        return series.resample(rule).max()\n",
    "    if how == \"min\":\n",
    "        return series.resample(rule).min()\n",
    "    raise ValueError(\"Unsupported aggregation\")\n",
    "\n",
    "if ghi_col is not None:\n",
    "    for rule in [\"1T\", \"10T\", \"60T\", \"1D\"]:\n",
    "        rs = resample_series(data[ghi_col].astype(\"float64\"), rule=rule, how=\"mean\")\n",
    "        plt.figure(figsize=(8,3))\n",
    "        rs.plot()\n",
    "        plt.title(f\"{ghi_col} — Resampled to {rule}\")\n",
    "        plt.xlabel(\"Time\")\n",
    "        plt.ylabel(ghi_col)\n",
    "        plt.grid(True)\n",
    "        plt.show()\n"
   ]
  },
  {
   "cell_type": "code",
   "execution_count": null,
   "id": "78d6c2b2",
   "metadata": {},
   "outputs": [],
   "source": [
    "\n",
    "# --- Quick correlation heatmap (numeric columns) ---\n",
    "num = data.select_dtypes(include=[np.number])\n",
    "if len(num.columns) >= 2:\n",
    "    corr = num.corr()\n",
    "    plt.figure(figsize=(6,5))\n",
    "    plt.imshow(corr, aspect=\"auto\")\n",
    "    plt.colorbar(label=\"Correlation\")\n",
    "    plt.xticks(range(len(corr.columns)), corr.columns, rotation=90)\n",
    "    plt.yticks(range(len(corr.columns)), corr.columns)\n",
    "    plt.title(\"Correlation matrix (numeric columns)\")\n",
    "    plt.tight_layout()\n",
    "    plt.show()\n",
    "else:\n",
    "    print(\"Not enough numeric columns for a correlation heatmap.\")\n"
   ]
  },
  {
   "cell_type": "code",
   "execution_count": null,
   "id": "0c544ac3",
   "metadata": {},
   "outputs": [],
   "source": [
    "\n",
    "# --- Gap analysis (time index) ---\n",
    "idx = data.index\n",
    "if hasattr(idx, \"asi8\"):\n",
    "    diffs = pd.Series(idx.asi8[1:] - idx.asi8[:-1]).astype(\"float64\") / 1e9\n",
    "    plt.figure(figsize=(8,3))\n",
    "    plt.plot(diffs.values)\n",
    "    plt.title(\"Index time gaps (seconds between consecutive samples)\")\n",
    "    plt.xlabel(\"Step\")\n",
    "    plt.ylabel(\"Δt (s)\")\n",
    "    plt.grid(True)\n",
    "    plt.show()\n",
    "else:\n",
    "    print(\"Index is not datetime-like; gap analysis skipped.\")\n"
   ]
  }
 ],
 "metadata": {
  "kernelspec": {
   "display_name": "Python 3",
   "language": "python",
   "name": "python3"
  },
  "language_info": {
   "codemirror_mode": {
    "name": "ipython",
    "version": 3
   },
   "file_extension": ".py",
   "mimetype": "text/x-python",
   "name": "python",
   "nbconvert_exporter": "python",
   "pygments_lexer": "ipython3",
   "version": "3.12.10"
  }
 },
 "nbformat": 4,
 "nbformat_minor": 5
}
