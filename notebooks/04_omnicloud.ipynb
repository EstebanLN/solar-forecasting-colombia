{
 "cells": [
  {
   "cell_type": "code",
   "execution_count": 2,
   "id": "651348ff",
   "metadata": {},
   "outputs": [
    {
     "name": "stdout",
     "output_type": "stream",
     "text": [
      "CUDA available: True\n",
      "GPU: NVIDIA GeForce RTX 3050 Laptop GPU\n"
     ]
    }
   ],
   "source": [
    "\n",
    "from pathlib import Path\n",
    "import numpy as np\n",
    "import matplotlib.pyplot as plt\n",
    "import rasterio as rio\n",
    "import torch\n",
    "\n",
    "from omnicloudmask import (\n",
    "    predict_from_array,            # predicción desde un array (3 bandas: R,G,NIR)\n",
    "    predict_from_load_func,        # predicción guardando GeoTIFFs a disco\n",
    "    load_s2,                       # función de carga para Sentinel-2 (.SAFE)\n",
    "    # load_ls8                     # Landsat 8\n",
    ")\n",
    "\n",
    "print(\"CUDA available:\", torch.cuda.is_available())\n",
    "if torch.cuda.is_available():\n",
    "    print(\"GPU:\", torch.cuda.get_device_name(0))\n"
   ]
  },
  {
   "cell_type": "markdown",
   "id": "37aee504",
   "metadata": {},
   "source": [
    "## A mode"
   ]
  },
  {
   "cell_type": "code",
   "execution_count": null,
   "id": "869ef8d7",
   "metadata": {},
   "outputs": [],
   "source": [
    "scene_paths = [\n",
    "    Path(r\"PATH\\A\\TU\\ESCENA_S2_1.SAFE\"),\n",
    "    # Path(r\"PATH\\A\\TU\\ESCENA_S2_2.SAFE\"),\n",
    "]"
   ]
  },
  {
   "cell_type": "code",
   "execution_count": null,
   "id": "268d30dd",
   "metadata": {},
   "outputs": [],
   "source": [
    "use_gpu = torch.cuda.is_available()\n",
    "\n",
    "pred_paths = predict_from_load_func(\n",
    "    scene_paths=scene_paths,\n",
    "    load_func=load_s2,\n",
    "    # Opciones de rendimiento:\n",
    "    batch_size=4 if use_gpu else 1,    # sube si tienes buena VRAM\n",
    "    inference_device='bf16',           # acelera si la GPU/CPU lo soporta\n",
    "    compile_models=True,               # compila el modelo para inferencia más rápida\n",
    "    mosaic_device='cuda' if use_gpu else 'cpu',\n",
    ")\n",
    "print(\"Máscaras generadas (GeoTIFF):\")\n",
    "for p in pred_paths:\n",
    "    print(\" -\", p)"
   ]
  },
  {
   "cell_type": "code",
   "execution_count": null,
   "id": "a1da7641",
   "metadata": {},
   "outputs": [],
   "source": [
    "if len(pred_paths) > 0:\n",
    "    with rio.open(pred_paths[0]) as src:\n",
    "        mask_full = src.read(1)  # 0..3 (Clear, Thick, Thin, Shadow)\n",
    "        print(\"shape:\", mask_full.shape, \"CRS:\", src.crs, \"transform:\", src.transform)\n",
    "    # Muestra un recorte (por ejemplo, centro 1024x1024 si aplica)\n",
    "    h, w = mask_full.shape\n",
    "    i0, i1 = h//4, min(h//4 + 1024, h)\n",
    "    j0, j1 = w//4, min(w//4 + 1024, w)\n",
    "    plt.figure(figsize=(6,6))\n",
    "    plt.imshow(mask_full[i0:i1, j0:j1], vmin=0, vmax=3)\n",
    "    plt.title(\"OmniCloudMask — preview (S2)\"); plt.colorbar(label=\"class (0..3)\")\n",
    "    plt.tight_layout(); plt.show()"
   ]
  },
  {
   "cell_type": "markdown",
   "id": "f69573aa",
   "metadata": {},
   "source": [
    "## B mode"
   ]
  },
  {
   "cell_type": "markdown",
   "id": "493a3540",
   "metadata": {},
   "source": [
    "### Alt 1"
   ]
  },
  {
   "cell_type": "code",
   "execution_count": null,
   "id": "e00b0c5d",
   "metadata": {},
   "outputs": [],
   "source": [
    "tif_3band = Path(r\"PATH\\A\\TU\\RASTER_3BAND_RGNIR.tif\")   # <-- cámbialo si lo vas a usar\n",
    "save_mask_tif = Path(r\"PATH\\A\\SALIDA\\mask_ocm.tif\")\n",
    "\n",
    "if tif_3band.exists():\n",
    "    with rio.open(tif_3band) as src:\n",
    "        # Asegura que tienes 3 bandas en orden (R,G,NIR)\n",
    "        arr = src.read()  # shape: (bands, H, W)\n",
    "        assert arr.shape[0] >= 3, \"Se esperan al menos 3 bandas (R,G,NIR)\"\n",
    "        # Si no están en orden, reordena aquí.\n",
    "        rgbn = arr[:3, :, :].astype(np.float32)\n",
    "\n",
    "        # Normalización: OmniCloudMask hace normalización dinámica multi-sensor,\n",
    "        # así que no es estrictamente necesario escalar aquí si las bandas son reflectancias/TOA.\n",
    "        # Predicción (devuelve numpy array máscara)\n",
    "        pred_mask = predict_from_array(rgbn)\n",
    "\n",
    "        # Guardar a GeoTIFF con la misma georreferenciación:\n",
    "        profile = src.profile\n",
    "        profile.update(\n",
    "            count=1, dtype=rasterio.uint8, compress=\"deflate\", predictor=2\n",
    "        )\n",
    "\n",
    "    with rio.open(save_mask_tif, \"w\", **profile) as dst:\n",
    "        dst.write(pred_mask.astype(np.uint8), 1)\n",
    "\n",
    "    print(\"Máscara guardada en:\", save_mask_tif)\n",
    "\n",
    "    # Vista rápida\n",
    "    plt.figure(figsize=(6,5))\n",
    "    plt.imshow(pred_mask, vmin=0, vmax=3)\n",
    "    plt.title(\"OmniCloudMask — local 3-band mask\"); plt.colorbar(label=\"class (0..3)\")\n",
    "    plt.tight_layout(); plt.show()"
   ]
  },
  {
   "cell_type": "markdown",
   "id": "a26a8356",
   "metadata": {},
   "source": [
    "### Alt 2"
   ]
  },
  {
   "cell_type": "code",
   "execution_count": null,
   "id": "bced5155",
   "metadata": {},
   "outputs": [],
   "source": [
    "R_path = Path(r\"PATH\\A\\TU\\RED.tif\")\n",
    "G_path = Path(r\"PATH\\A\\TU\\GREEN.tif\")\n",
    "N_path = Path(r\"PATH\\A\\TU\\NIR.tif\")\n",
    "save_mask_sep = Path(r\"PATH\\A\\SALIDA\\mask_ocm_from_3tifs.tif\")\n",
    "\n",
    "if R_path.exists() and G_path.exists() and N_path.exists():\n",
    "    with rio.open(R_path) as rsrc:\n",
    "        prof = rsrc.profile\n",
    "        H, W = rsrc.height, rsrc.width\n",
    "        transform, crs = rsrc.transform, rsrc.crs\n",
    "        red = rsrc.read(1).astype(np.float32)\n",
    "\n",
    "    # Reproyecta G y N a la malla de R\n",
    "    def reproject_to(ref_path, src_path):\n",
    "        with rio.open(ref_path) as ref, rio.open(src_path) as src:\n",
    "            dest = np.empty((ref.height, ref.width), dtype=np.float32)\n",
    "            rio.warp.reproject(\n",
    "                source=rio.band(src, 1),\n",
    "                destination=dest,\n",
    "                src_transform=src.transform,\n",
    "                src_crs=src.crs,\n",
    "                dst_transform=ref.transform,\n",
    "                dst_crs=ref.crs,\n",
    "                resampling=rio.warp.Resampling.bilinear,\n",
    "            )\n",
    "        return dest\n",
    "\n",
    "    green = reproject_to(R_path, G_path)\n",
    "    nir   = reproject_to(R_path, N_path)\n",
    "\n",
    "    stack_3 = np.stack([red, green, nir], axis=0)  # (3, H, W)\n",
    "    pred_mask = predict_from_array(stack_3)\n",
    "\n",
    "    prof.update(count=1, dtype=rio.uint8, compress=\"deflate\", predictor=2)\n",
    "    with rio.open(save_mask_sep, \"w\", **prof) as dst:\n",
    "        dst.write(pred_mask.astype(np.uint8), 1)\n",
    "\n",
    "    print(\"Máscara guardada en:\", save_mask_sep)"
   ]
  }
 ],
 "metadata": {
  "kernelspec": {
   "display_name": "Python 3",
   "language": "python",
   "name": "python3"
  },
  "language_info": {
   "codemirror_mode": {
    "name": "ipython",
    "version": 3
   },
   "file_extension": ".py",
   "mimetype": "text/x-python",
   "name": "python",
   "nbconvert_exporter": "python",
   "pygments_lexer": "ipython3",
   "version": "3.12.10"
  }
 },
 "nbformat": 4,
 "nbformat_minor": 5
}
